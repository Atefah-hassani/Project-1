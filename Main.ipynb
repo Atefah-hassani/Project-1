{
 "cells": [
  {
   "cell_type": "markdown",
   "id": "9f02e840-4676-4fe4-bf00-b65ea2b85068",
   "metadata": {},
   "source": [
    "## Main project notebook"
   ]
  },
  {
   "cell_type": "code",
   "execution_count": null,
   "id": "22b3d7e6-2efc-4ffa-b225-14dc159a5488",
   "metadata": {},
   "outputs": [],
   "source": []
  }
 ],
 "metadata": {
  "kernelspec": {
   "display_name": "Python 3 (ipykernel)",
   "language": "python",
   "name": "python3"
  },
  "language_info": {
   "codemirror_mode": {
    "name": "ipython",
    "version": 3
   },
   "file_extension": ".py",
   "mimetype": "text/x-python",
   "name": "python",
   "nbconvert_exporter": "python",
   "pygments_lexer": "ipython3",
   "version": "3.12.7"
  }
 },
 "nbformat": 4,
 "nbformat_minor": 5
}
